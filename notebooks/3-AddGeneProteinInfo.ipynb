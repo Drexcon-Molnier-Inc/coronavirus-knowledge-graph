{
 "cells": [
  {
   "cell_type": "markdown",
   "metadata": {
    "slideshow": {
     "slide_type": "subslide"
    }
   },
   "source": [
    "# Add Genome, Gene, and Protein info for Novel Coronavirus (COVID-19)¶\n",
    "## **WORK IN PROGRESS**"
   ]
  },
  {
   "cell_type": "code",
   "execution_count": 1,
   "metadata": {
    "slideshow": {
     "slide_type": "fragment"
    }
   },
   "outputs": [],
   "source": [
    "import os\n",
    "from py2neo import Graph"
   ]
  },
  {
   "cell_type": "markdown",
   "metadata": {},
   "source": [
    "### Open Graph data base"
   ]
  },
  {
   "cell_type": "code",
   "execution_count": 2,
   "metadata": {},
   "outputs": [],
   "source": [
    "graph = Graph(password=\"neo4jbinder\")"
   ]
  },
  {
   "cell_type": "markdown",
   "metadata": {},
   "source": [
    "Remove any existing nodes and relationships"
   ]
  },
  {
   "cell_type": "code",
   "execution_count": 3,
   "metadata": {},
   "outputs": [],
   "source": [
    "#graph.run(\"MATCH (n) DETACH DELETE n\")"
   ]
  },
  {
   "cell_type": "markdown",
   "metadata": {},
   "source": [
    "Get absolute path for data directory (LOAD CSV requires absolute path)"
   ]
  },
  {
   "cell_type": "code",
   "execution_count": 4,
   "metadata": {},
   "outputs": [],
   "source": [
    "data_dir = os.path.abspath(\"../data\")"
   ]
  },
  {
   "cell_type": "markdown",
   "metadata": {},
   "source": [
    "Make sure that the core entities are unique"
   ]
  },
  {
   "cell_type": "code",
   "execution_count": 5,
   "metadata": {},
   "outputs": [
    {
     "data": {
      "text/plain": [
       "<py2neo.database.Cursor at 0x10adacca0>"
      ]
     },
     "execution_count": 5,
     "metadata": {},
     "output_type": "execute_result"
    }
   ],
   "source": [
    "graph.run(\"CREATE CONSTRAINT ON (ge:Genome) ASSERT ge.name IS UNIQUE\")\n",
    "graph.run(\"CREATE CONSTRAINT ON (g:Gene) ASSERT g.name IS UNIQUE\")\n",
    "graph.run(\"CREATE CONSTRAINT ON (p:Protein) ASSERT p.name IS UNIQUE\")"
   ]
  },
  {
   "cell_type": "markdown",
   "metadata": {},
   "source": [
    "### Add genome info"
   ]
  },
  {
   "cell_type": "code",
   "execution_count": 6,
   "metadata": {},
   "outputs": [
    {
     "data": {
      "text/plain": [
       "<py2neo.database.Cursor at 0x10adb80d0>"
      ]
     },
     "execution_count": 6,
     "metadata": {},
     "output_type": "execute_result"
    }
   ],
   "source": [
    "load_genome = f\"LOAD CSV WITH HEADERS FROM 'file:///{data_dir}/genome_COVID-19.csv' AS e\"\n",
    "query = \"\"\"\n",
    "MERGE (ge:Genome {name:e.name})\n",
    "SET ge.accession = e.accession,\n",
    "    ge.organism = e.organism,\n",
    "    ge.taxon = e.taxon,\n",
    "    ge.isolate = e.isolate,\n",
    "    ge.host = e.host,\n",
    "    ge.start = e.start,\n",
    "    ge.end = e.end\n",
    "MERGE (p: Pathogen{name: 'Wuhan seafood market pneumonia virus'})\n",
    "MERGE (ge)-[:ENCODES]->(p)\n",
    "\"\"\"\n",
    "graph.run(load_genome + query)"
   ]
  },
  {
   "cell_type": "markdown",
   "metadata": {},
   "source": [
    "### Add gene and protein info"
   ]
  },
  {
   "cell_type": "code",
   "execution_count": 7,
   "metadata": {},
   "outputs": [
    {
     "data": {
      "text/plain": [
       "<py2neo.database.Cursor at 0x10adf13a0>"
      ]
     },
     "execution_count": 7,
     "metadata": {},
     "output_type": "execute_result"
    }
   ],
   "source": [
    "load_gene = f\"LOAD CSV WITH HEADERS FROM 'file:///{data_dir}/genes_COVID-19.csv' AS e\"\n",
    "query = \"\"\"\n",
    "MERGE (g:Gene {name:e.name})\n",
    "SET g.gene_id = e.gene_id,\n",
    "    g.start = e.start,\n",
    "    g.end = e.end\n",
    "MERGE (ge:Genome {name:'Wuhan seafood market pneumonia virus isolate Wuhan-Hu-1'})\n",
    "MERGE (p:Protein {name:e.protein_name})\n",
    "SET p.protein_id = e.protein_id\n",
    "MERGE (ge)-[:CONTAINS]->(g)\n",
    "MERGE (g)-[:ENCODES]->(p)\n",
    "\"\"\"\n",
    "graph.run(load_gene + query)"
   ]
  },
  {
   "cell_type": "code",
   "execution_count": null,
   "metadata": {},
   "outputs": [],
   "source": []
  },
  {
   "cell_type": "code",
   "execution_count": null,
   "metadata": {},
   "outputs": [],
   "source": []
  }
 ],
 "metadata": {
  "celltoolbar": "Slideshow",
  "kernelspec": {
   "display_name": "Python [conda env:coronavirus-knowledge-graph]",
   "language": "python",
   "name": "conda-env-coronavirus-knowledge-graph-py"
  },
  "language_info": {
   "codemirror_mode": {
    "name": "ipython",
    "version": 3
   },
   "file_extension": ".py",
   "mimetype": "text/x-python",
   "name": "python",
   "nbconvert_exporter": "python",
   "pygments_lexer": "ipython3",
   "version": "3.8.1"
  }
 },
 "nbformat": 4,
 "nbformat_minor": 4
}
