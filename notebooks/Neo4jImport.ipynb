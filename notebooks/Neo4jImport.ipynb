{
 "cells": [
  {
   "cell_type": "markdown",
   "metadata": {
    "slideshow": {
     "slide_type": "slide"
    }
   },
   "source": [
    "# Create Neo4j Graph Database"
   ]
  },
  {
   "cell_type": "markdown",
   "metadata": {},
   "source": [
    "First run notebook \"Strains.ipynb\" to create the node and relationship files"
   ]
  },
  {
   "cell_type": "markdown",
   "metadata": {},
   "source": [
    "See [Neo4j Import Guide](https://neo4j.com/developer/guide-import-csv/) how to batch upload nodes and relationships."
   ]
  },
  {
   "cell_type": "code",
   "execution_count": 8,
   "metadata": {},
   "outputs": [],
   "source": [
    "import os"
   ]
  },
  {
   "cell_type": "code",
   "execution_count": 9,
   "metadata": {},
   "outputs": [
    {
     "name": "stdout",
     "output_type": "stream",
     "text": [
      "/Users/peter/Library/Application Support/Neo4j Desktop/Application/neo4jDatabases/database-993db298-6374-4f0a-9a9a-d0783480877a/installation-3.5.14\n"
     ]
    }
   ],
   "source": [
    "NEO4J_HOME = os.getenv('NEO4J_HOME')\n",
    "print(NEO4J_HOME)"
   ]
  },
  {
   "cell_type": "code",
   "execution_count": 10,
   "metadata": {},
   "outputs": [],
   "source": [
    "# Print neo4j-admin help\n",
    "# !\"$NEO4J_HOME\"/bin/neo4j-admin import"
   ]
  },
  {
   "cell_type": "markdown",
   "metadata": {},
   "source": [
    "Remove existing database (can only batch upload into an empty database)"
   ]
  },
  {
   "cell_type": "code",
   "execution_count": 11,
   "metadata": {},
   "outputs": [],
   "source": [
    "!rm -r \"$NEO4J_HOME\"/data/databases/graph.db"
   ]
  },
  {
   "cell_type": "markdown",
   "metadata": {},
   "source": [
    "Batch upload nodes and relationships"
   ]
  },
  {
   "cell_type": "code",
   "execution_count": 12,
   "metadata": {},
   "outputs": [
    {
     "name": "stdout",
     "output_type": "stream",
     "text": [
      "Neo4j version: 3.5.14\n",
      "Importing the contents of these files into /Users/peter/Library/Application Support/Neo4j Desktop/Application/neo4jDatabases/database-993db298-6374-4f0a-9a9a-d0783480877a/installation-3.5.14/data/databases/graph.db:\n",
      "Nodes:\n",
      "  /Users/peter/GitRespositories/coronavirus-knowledge-graph/notebooks/../reference_data/Outbreak.csv\n",
      "\n",
      "  /Users/peter/GitRespositories/coronavirus-knowledge-graph/notebooks/../reference_data/Pathogen.csv\n",
      "\n",
      "  /Users/peter/GitRespositories/coronavirus-knowledge-graph/notebooks/../data/nodes/Admin1.csv\n",
      "\n",
      "  /Users/peter/GitRespositories/coronavirus-knowledge-graph/notebooks/../data/nodes/Admin2.csv\n",
      "\n",
      "  /Users/peter/GitRespositories/coronavirus-knowledge-graph/notebooks/../data/nodes/City.csv\n",
      "\n",
      "  /Users/peter/GitRespositories/coronavirus-knowledge-graph/notebooks/../data/nodes/Country.csv\n",
      "\n",
      "  /Users/peter/GitRespositories/coronavirus-knowledge-graph/notebooks/../data/nodes/Host.csv\n",
      "\n",
      "  /Users/peter/GitRespositories/coronavirus-knowledge-graph/notebooks/../data/nodes/PersonAnimal.csv\n",
      "\n",
      "  /Users/peter/GitRespositories/coronavirus-knowledge-graph/notebooks/../data/nodes/Strain.csv\n",
      "Relationships:\n",
      "  /Users/peter/GitRespositories/coronavirus-knowledge-graph/notebooks/../reference_data/Pathogen-CAUSES-Outbreak.csv\n",
      "\n",
      "  /Users/peter/GitRespositories/coronavirus-knowledge-graph/notebooks/../data/relationships/Host-INFECTED_BY-Strain.csv\n",
      "\n",
      "  /Users/peter/GitRespositories/coronavirus-knowledge-graph/notebooks/../data/relationships/PersonAnimal-IS_A-Host.csv\n",
      "\n",
      "  /Users/peter/GitRespositories/coronavirus-knowledge-graph/notebooks/../data/relationships/Strain-FOUND_IN-Admin1.csv\n",
      "\n",
      "  /Users/peter/GitRespositories/coronavirus-knowledge-graph/notebooks/../data/relationships/Strain-FOUND_IN-Admin2.csv\n",
      "\n",
      "  /Users/peter/GitRespositories/coronavirus-knowledge-graph/notebooks/../data/relationships/Strain-FOUND_IN-City.csv\n",
      "\n",
      "  /Users/peter/GitRespositories/coronavirus-knowledge-graph/notebooks/../data/relationships/Strain-FOUND_IN-Country.csv\n",
      "\n",
      "  /Users/peter/GitRespositories/coronavirus-knowledge-graph/notebooks/../data/relationships/PersonAnimal-LOCATED_IN-Admin1.csv\n",
      "\n",
      "  /Users/peter/GitRespositories/coronavirus-knowledge-graph/notebooks/../data/relationships/PersonAnimal-LOCATED_IN-Admin2.csv\n",
      "\n",
      "  /Users/peter/GitRespositories/coronavirus-knowledge-graph/notebooks/../data/relationships/PersonAnimal-LOCATED_IN-City.csv\n",
      "\n",
      "  /Users/peter/GitRespositories/coronavirus-knowledge-graph/notebooks/../data/relationships/PersonAnimal-LOCATED_IN-Country.csv\n",
      "\n",
      "  /Users/peter/GitRespositories/coronavirus-knowledge-graph/notebooks/../data/relationships/Pathogen-HAS-Strain.csv\n",
      "\n",
      "Available resources:\n",
      "  Total machine memory: 16.00 GB\n",
      "  Free machine memory: 3.58 GB\n",
      "  Max heap memory : 910.50 MB\n",
      "  Processors: 4\n",
      "  Configured max memory: 13.60 GB\n",
      "  High-IO: true\n",
      "\n",
      "WARNING: heap size 910.50 MB may be too small to complete this import. Suggested heap size is 1.00 GBImport starting 2020-03-15 17:42:33.668-0700\n",
      "  Estimated number of nodes: 1.39 k\n",
      "  Estimated number of node properties: 4.96 k\n",
      "  Estimated number of relationships: 4.51 k\n",
      "  Estimated number of relationship properties: 0.00 \n",
      "  Estimated disk space usage: 330.92 kB\n",
      "  Estimated required memory usage: 1020.03 MB\n",
      "\n",
      "InteractiveReporterInteractions command list (end with ENTER):\n",
      "  c: Print more detailed information about current stage\n",
      "  i: Print more detailed information\n",
      "\n",
      "(1/4) Node import 2020-03-15 17:42:33.854-0700\n",
      "  Estimated number of nodes: 1.39 k\n",
      "  Estimated disk space usage: 181.34 kB\n",
      "  Estimated required memory usage: 1020.03 MB\n",
      "-......... .......... .......... .......... ..........   5% ∆159ms\n",
      ".......... .......... .......... .......... ..........  10% ∆1ms\n",
      ".......... .......... .......... .......... ..........  15% ∆0ms\n",
      ".......... .......... .......... .......... ..........  20% ∆1ms\n",
      ".......... .......... .......... .......... ..........  25% ∆0ms\n",
      ".......... .......... .......... .......... ..........  30% ∆0ms\n",
      ".......... .......... .......... .......... ..........  35% ∆1ms\n",
      ".......... .......... .......... .......... ..........  40% ∆0ms\n",
      ".......... .......... .......... .......... ..........  45% ∆1ms\n",
      ".......... .......... .......... .......... ..........  50% ∆0ms\n",
      ".......... .......... .......... .......... ..........  55% ∆1ms\n",
      ".......... .......... .......... .......... ..........  60% ∆5ms\n",
      ".......... .......... .......... .......... ..........  65% ∆3ms\n",
      ".......... .......... .......... .......... ..........  70% ∆5ms\n",
      ".......... .......... .......... .......... ..........  75% ∆4ms\n",
      ".......... .......... .......... .......... ..........  80% ∆10ms\n",
      ".......... .......... .......... .......... ..........  85% ∆10ms\n",
      ".......... .......... .......... .......... ..........  90% ∆5ms\n",
      ".......... .......... .......... .......... ..........  95% ∆6ms\n",
      ".......... .......... .......... .......... .........(2/4) Relationship import 2020-03-15 17:42:34.331-0700\n",
      "  Estimated number of relationships: 4.51 k\n",
      "  Estimated disk space usage: 149.58 kB\n",
      "  Estimated required memory usage: 1.00 GB\n",
      ".......... .......... .......... .......... ..........   5% ∆346ms\n",
      ".......... .......... .......... .......... ..........  10% ∆0ms\n",
      ".......... .......... .......... .......... ..........  15% ∆1ms\n",
      ".......... .......... .......... .......... ..........  20% ∆1ms\n",
      ".......... .......... .......... .......... ..........  25% ∆1ms\n",
      ".......... .......... .......... .......... ..........  30% ∆0ms\n",
      ".......... .......... .......... .......... ..........  35% ∆0ms\n",
      ".......... .......... .......... .......... ..........  40% ∆0ms\n",
      ".......... .......... .......... .......... ..........  45% ∆1ms\n",
      ".......... .......... .......... .......... ..........  50% ∆0ms\n",
      ".......... .......... .......... .......... ..........  55% ∆0ms\n",
      ".......... .......... .......... .......... ..........  60% ∆0ms\n",
      ".......... .......... .......... .......... ..........  65% ∆0ms\n",
      ".......... .......... .......... .......... ..........  70% ∆1ms\n",
      ".......... .......... .......... .......... ..........  75% ∆0ms\n",
      ".......... .......... .......... .......... ..........  80% ∆0ms\n",
      ".......... .......... .......... .......... ..........  85% ∆0ms\n",
      ".......... .......... .......... .......... ..........  90% ∆0ms\n",
      ".......... .......... .......... .......... ..........  95% ∆1ms\n",
      ".......... .......... .......... .......... .......... 100% ∆0ms\n",
      "\n",
      "(3/4) Relationship linking 2020-03-15 17:42:34.683-0700\n",
      "  Estimated required memory usage: 1020.02 MB\n",
      "-......... .......... .......... .......... ..........   5% ∆66ms\n",
      ".......... .......... .......... .......... ..........  10% ∆1ms\n",
      ".......... .......... .......... .......... ..........  15% ∆0ms\n",
      ".......... .......... .......... .......... ..........  20% ∆0ms\n",
      ".......... .......... .......... .......... ..........  25% ∆0ms\n",
      ".......... .......... .......... .......... ..........  30% ∆0ms\n",
      ".......... .......... .......... .......... ..........  35% ∆1ms\n",
      ".......... .......... .......... .......... ..........  40% ∆0ms\n",
      ".......... .......... .......... .......... ..........  45% ∆0ms\n",
      ".......... .......... .......... .......... ..........  50% ∆0ms\n",
      ".......... .......... .......... .......... ..........  55% ∆0ms\n",
      ".......... .......... .......... .......... ..........  60% ∆1ms\n",
      ".......... .......... .......... .......... ..........  65% ∆0ms\n",
      ".......... .......... .......... .......... ..........  70% ∆0ms\n",
      ".......... .......... .......... .......... ..........  75% ∆0ms\n",
      ".......... .......... .......... .......... ..........  80% ∆0ms\n",
      ".......... .......... .......... .......... ..........  85% ∆0ms\n",
      ".......... .......... .......... .......... ..........  90% ∆1ms\n",
      ".......... .......... .......... .......... ..........  95% ∆0ms\n",
      ".......... .......... .......... .......... .......... 100% ∆0ms\n",
      "\n",
      "(4/4) Post processing 2020-03-15 17:42:34.940-0700\n",
      "  Estimated required memory usage: 1020.01 MB\n",
      "-......... .......... .......... .......... ..........   5% ∆62ms\n",
      ".......... .......... .......... .......... ..........  10% ∆0ms\n",
      ".......... .......... .......... .......... ..........  15% ∆1ms\n",
      ".......... .......... .......... .......... ..........  20% ∆0ms\n",
      ".......... .......... .......... .......... ..........  25% ∆0ms\n",
      ".......... .......... .......... .......... ..........  30% ∆0ms\n",
      ".......... .......... .......... .......... ..........  35% ∆0ms\n",
      ".......... .......... .......... .......... ..........  40% ∆0ms\n",
      ".......... .......... .......... .......... ..........  45% ∆1ms\n",
      ".......... .......... .......... .......... ..........  50% ∆0ms\n",
      ".......... .......... .......... .......... ..........  55% ∆0ms\n",
      ".......... .......... .......... .......... ..........  60% ∆0ms\n",
      ".......... .......... .......... .......... ..........  65% ∆0ms\n",
      ".......... .......... .......... .......... ..........  70% ∆0ms\n",
      ".......... .......... .......... .......... ..........  75% ∆0ms\n",
      ".......... .......... .......... .......... ..........  80% ∆1ms\n",
      ".......... .......... .......... .......... ..........  85% ∆0ms\n",
      ".......... .......... .......... .......... ..........  90% ∆0ms\n",
      ".......... .......... .......... .......... ..........  95% ∆0ms\n",
      ".......... .......... .......... .......... .......... 100% ∆0ms\n",
      "\n",
      "\n",
      "IMPORT DONE in 1s 964ms. \n",
      "Imported:\n",
      "  1383 nodes\n",
      "  4492 relationships\n",
      "  4945 properties\n",
      "Peak memory usage: 1.03 GB\n"
     ]
    }
   ],
   "source": [
    "!\"$NEO4J_HOME\"/bin/neo4j-admin import --database=graph.db --id-type=STRING \\\n",
    "    --nodes=../reference_data/Outbreak.csv \\\n",
    "    --nodes=../reference_data/Pathogen.csv \\\n",
    "    --nodes=../data/nodes/Admin1.csv \\\n",
    "    --nodes=../data/nodes/Admin2.csv \\\n",
    "    --nodes=../data/nodes/City.csv \\\n",
    "    --nodes=../data/nodes/Country.csv \\\n",
    "    --nodes=../data/nodes/Host.csv \\\n",
    "    --nodes=../data/nodes/PersonAnimal.csv \\\n",
    "    --nodes=../data/nodes/Strain.csv \\\n",
    "    --relationships=../reference_data/Pathogen-CAUSES-Outbreak.csv \\\n",
    "    --relationships=../data/relationships/Host-INFECTED_BY-Strain.csv \\\n",
    "    --relationships=../data/relationships/PersonAnimal-IS_A-Host.csv \\\n",
    "    --relationships=../data/relationships/Strain-FOUND_IN-Admin1.csv \\\n",
    "    --relationships=../data/relationships/Strain-FOUND_IN-Admin2.csv \\\n",
    "    --relationships=../data/relationships/Strain-FOUND_IN-City.csv \\\n",
    "    --relationships=../data/relationships/Strain-FOUND_IN-Country.csv \\\n",
    "    --relationships=../data/relationships/PersonAnimal-LOCATED_IN-Admin1.csv \\\n",
    "    --relationships=../data/relationships/PersonAnimal-LOCATED_IN-Admin2.csv \\\n",
    "    --relationships=../data/relationships/PersonAnimal-LOCATED_IN-City.csv \\\n",
    "    --relationships=../data/relationships/PersonAnimal-LOCATED_IN-Country.csv \\\n",
    "    --relationships=../data/relationships/Pathogen-HAS-Strain.csv"
   ]
  },
  {
   "cell_type": "code",
   "execution_count": null,
   "metadata": {},
   "outputs": [],
   "source": []
  }
 ],
 "metadata": {
  "celltoolbar": "Slideshow",
  "kernelspec": {
   "display_name": "Python 3",
   "language": "python",
   "name": "python3"
  },
  "language_info": {
   "codemirror_mode": {
    "name": "ipython",
    "version": 3
   },
   "file_extension": ".py",
   "mimetype": "text/x-python",
   "name": "python",
   "nbconvert_exporter": "python",
   "pygments_lexer": "ipython3",
   "version": "3.7.6"
  }
 },
 "nbformat": 4,
 "nbformat_minor": 4
}
