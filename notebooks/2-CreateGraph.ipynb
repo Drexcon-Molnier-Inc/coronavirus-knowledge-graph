{
 "cells": [
  {
   "cell_type": "markdown",
   "metadata": {
    "slideshow": {
     "slide_type": "slide"
    }
   },
   "source": [
    "# Create Neo4j Graph Database"
   ]
  },
  {
   "cell_type": "markdown",
   "metadata": {},
   "source": [
    "First run notebook [1a-Strains.ipynb](./1a-Strains.ipynb) to create the node and relationship files in the /data directory."
   ]
  },
  {
   "cell_type": "markdown",
   "metadata": {},
   "source": [
    "[Neo4j Import Guide](https://neo4j.com/developer/guide-import-csv/)\n",
    "\n",
    "[Neo4j Batch Import](https://neo4j.com/docs/operations-manual/current/tools/import/)"
   ]
  },
  {
   "cell_type": "code",
   "execution_count": null,
   "metadata": {},
   "outputs": [],
   "source": [
    "import os"
   ]
  },
  {
   "cell_type": "code",
   "execution_count": null,
   "metadata": {},
   "outputs": [],
   "source": [
    "NEO4J_HOME = os.getenv('NEO4J_HOME')\n",
    "print(NEO4J_HOME)"
   ]
  },
  {
   "cell_type": "code",
   "execution_count": null,
   "metadata": {},
   "outputs": [],
   "source": [
    "# Print neo4j-admin help\n",
    "# !\"$NEO4J_HOME\"/bin/neo4j-admin import"
   ]
  },
  {
   "cell_type": "markdown",
   "metadata": {},
   "source": [
    "Remove existing database (can only batch upload into an empty database)"
   ]
  },
  {
   "cell_type": "code",
   "execution_count": 4,
   "metadata": {},
   "outputs": [],
   "source": [
    "!rm -r \"$NEO4J_HOME\"/data/databases/graph.db"
   ]
  },
  {
   "cell_type": "markdown",
   "metadata": {},
   "source": [
    "Batch upload nodes and relationships"
   ]
  },
  {
   "cell_type": "code",
   "execution_count": 5,
   "metadata": {},
   "outputs": [
    {
     "name": "stdout",
     "output_type": "stream",
     "text": [
      "Neo4j version: 3.5.14\n",
      "Importing the contents of these files into /Users/peter/Library/Application Support/Neo4j Desktop/Application/neo4jDatabases/database-993db298-6374-4f0a-9a9a-d0783480877a/installation-3.5.14/data/databases/graph.db:\n",
      "Nodes:\n",
      "  /Users/peter/GitRespositories/coronavirus-knowledge-graph/notebooks/../reference_data/Outbreak.csv\n",
      "\n",
      "  /Users/peter/GitRespositories/coronavirus-knowledge-graph/notebooks/../reference_data/Pathogen.csv\n",
      "\n",
      "  /Users/peter/GitRespositories/coronavirus-knowledge-graph/notebooks/../data/nodes/Admin1.csv\n",
      "\n",
      "  /Users/peter/GitRespositories/coronavirus-knowledge-graph/notebooks/../data/nodes/Admin2.csv\n",
      "\n",
      "  /Users/peter/GitRespositories/coronavirus-knowledge-graph/notebooks/../data/nodes/City.csv\n",
      "\n",
      "  /Users/peter/GitRespositories/coronavirus-knowledge-graph/notebooks/../data/nodes/Country.csv\n",
      "\n",
      "  /Users/peter/GitRespositories/coronavirus-knowledge-graph/notebooks/../data/nodes/Host.csv\n",
      "\n",
      "  /Users/peter/GitRespositories/coronavirus-knowledge-graph/notebooks/../data/nodes/PersonAnimal.csv\n",
      "\n",
      "  /Users/peter/GitRespositories/coronavirus-knowledge-graph/notebooks/../data/nodes/Strain.csv\n",
      "Relationships:\n",
      "  /Users/peter/GitRespositories/coronavirus-knowledge-graph/notebooks/../reference_data/Pathogen-CAUSES-Outbreak.csv\n",
      "\n",
      "  /Users/peter/GitRespositories/coronavirus-knowledge-graph/notebooks/../data/relationships/PersonAnimal-CARRIES-Strain.csv\n",
      "\n",
      "  /Users/peter/GitRespositories/coronavirus-knowledge-graph/notebooks/../data/relationships/PersonAnimal-IS_A-Host.csv\n",
      "\n",
      "  /Users/peter/GitRespositories/coronavirus-knowledge-graph/notebooks/../data/relationships/Strain-FOUND_IN-Admin1.csv\n",
      "\n",
      "  /Users/peter/GitRespositories/coronavirus-knowledge-graph/notebooks/../data/relationships/Strain-FOUND_IN-Admin2.csv\n",
      "\n",
      "  /Users/peter/GitRespositories/coronavirus-knowledge-graph/notebooks/../data/relationships/Strain-FOUND_IN-City.csv\n",
      "\n",
      "  /Users/peter/GitRespositories/coronavirus-knowledge-graph/notebooks/../data/relationships/Strain-FOUND_IN-Country.csv\n",
      "\n",
      "  /Users/peter/GitRespositories/coronavirus-knowledge-graph/notebooks/../data/relationships/PersonAnimal-LOCATED_IN-Admin1.csv\n",
      "\n",
      "  /Users/peter/GitRespositories/coronavirus-knowledge-graph/notebooks/../data/relationships/PersonAnimal-LOCATED_IN-Admin2.csv\n",
      "\n",
      "  /Users/peter/GitRespositories/coronavirus-knowledge-graph/notebooks/../data/relationships/PersonAnimal-LOCATED_IN-City.csv\n",
      "\n",
      "  /Users/peter/GitRespositories/coronavirus-knowledge-graph/notebooks/../data/relationships/PersonAnimal-LOCATED_IN-Country.csv\n",
      "\n",
      "  /Users/peter/GitRespositories/coronavirus-knowledge-graph/notebooks/../data/relationships/Pathogen-HAS-Strain.csv\n",
      "\n",
      "Available resources:\n",
      "  Total machine memory: 16.00 GB\n",
      "  Free machine memory: 956.44 MB\n",
      "  Max heap memory : 910.50 MB\n",
      "  Processors: 4\n",
      "  Configured max memory: 13.60 GB\n",
      "  High-IO: true\n",
      "\n",
      "WARNING: 865.00 MB memory may not be sufficient to complete this import. Suggested memory distribution is:\n",
      "heap size: 1.00 GB\n",
      "minimum free and available memory excluding heap size: 1020.03 MBImport starting 2020-03-20 01:34:35.584-0700\n",
      "  Estimated number of nodes: 1.96 k\n",
      "  Estimated number of node properties: 7.61 k\n",
      "  Estimated number of relationships: 6.45 k\n",
      "  Estimated number of relationship properties: 0.00 \n",
      "  Estimated disk space usage: 476.92 kB\n",
      "  Estimated required memory usage: 1020.03 MB\n",
      "\n",
      "InteractiveReporterInteractions command list (end with ENTER):\n",
      "  c: Print more detailed information about current stage\n",
      "  i: Print more detailed information\n",
      "\n",
      "(1/4) Node import 2020-03-20 01:34:35.712-0700\n",
      "  Estimated number of nodes: 1.96 k\n",
      "  Estimated disk space usage: 262.86 kB\n",
      "  Estimated required memory usage: 1020.03 MB\n",
      "-......... .......... .......... .......... ..........   5% ∆173ms\n",
      ".......... .......... .......... .......... ..........  10% ∆5ms\n",
      ".......... .......... .......... .......... ..........  15% ∆2ms\n",
      ".......... .......... .......... .......... ..........  20% ∆3ms\n",
      ".......... .......... .......... .......... ..........  25% ∆1ms\n",
      ".......... .......... .......... .......... ..........  30% ∆3ms\n",
      ".......... .......... .......... .......... ..........  35% ∆2ms\n",
      ".......... .......... .......... .......... ..........  40% ∆2ms\n",
      ".......... .......... .......... .......... ..........  45% ∆3ms\n",
      ".......... .......... .......... .......... ..........  50% ∆2ms\n",
      ".......... .......... .......... .......... ..........  55% ∆2ms\n",
      ".......... .......... .......... .......... ..........  60% ∆3ms\n",
      ".......... .......... .......... .......... ..........  65% ∆3ms\n",
      ".......... .......... .......... .......... ..........  70% ∆3ms\n",
      ".......... .......... .......... .......... ..........  75% ∆18ms\n",
      ".......... .......... .......... .......... ..........  80% ∆2ms\n",
      ".......... .......... .......... .......... ..........  85% ∆2ms\n",
      ".......... .......... .......... .......... ..........  90% ∆3ms\n",
      ".......... .......... .......... .......... ..........  95% ∆4ms\n",
      ".......... .......... .......... .......... .......... 100% ∆2ms\n",
      "\n",
      "(2/4) Relationship import 2020-03-20 01:34:36.248-0700\n",
      "  Estimated number of relationships: 6.45 k\n",
      "  Estimated disk space usage: 214.06 kB\n",
      "  Estimated required memory usage: 1.00 GB\n",
      ".......... .......... .......... .......... ..........   5% ∆349ms\n",
      ".......... .......... .......... .......... ..........  10% ∆1ms\n",
      ".......... .......... .......... .......... ..........  15% ∆0ms\n",
      ".......... .......... .......... .......... ..........  20% ∆1ms\n",
      ".......... .......... .......... .......... ..........  25% ∆0ms\n",
      ".......... .......... .......... .......... ..........  30% ∆0ms\n",
      ".......... .......... .......... .......... ..........  35% ∆1ms\n",
      ".......... .......... .......... .......... ..........  40% ∆0ms\n",
      ".......... .......... .......... .......... ..........  45% ∆0ms\n",
      ".......... .......... .......... .......... ..........  50% ∆1ms\n",
      ".......... .......... .......... .......... ..........  55% ∆0ms\n",
      ".......... .......... .......... .......... ..........  60% ∆0ms\n",
      ".......... .......... .......... .......... ..........  65% ∆0ms\n",
      ".......... .......... .......... .......... ..........  70% ∆0ms\n",
      ".......... .......... .......... .......... ..........  75% ∆1ms\n",
      ".......... .......... .......... .......... ..........  80% ∆0ms\n",
      ".......... .......... .......... .......... ..........  85% ∆0ms\n",
      ".......... .......... .......... .......... ..........  90% ∆0ms\n",
      ".......... .......... .......... .......... ..........  95% ∆0ms\n",
      ".......... .......... .......... .......... .......... 100% ∆1ms\n",
      "\n",
      "(3/4) Relationship linking 2020-03-20 01:34:36.604-0700\n",
      "  Estimated required memory usage: 1020.03 MB\n",
      "-......... .......... .......... .......... ..........   5% ∆68ms\n",
      ".......... .......... .......... .......... ..........  10% ∆0ms\n",
      ".......... .......... .......... .......... ..........  15% ∆0ms\n",
      ".......... .......... .......... .......... ..........  20% ∆0ms\n",
      ".......... .......... .......... .......... ..........  25% ∆1ms\n",
      ".......... .......... .......... .......... ..........  30% ∆0ms\n",
      ".......... .......... .......... .......... ..........  35% ∆0ms\n",
      ".......... .......... .......... .......... ..........  40% ∆1ms\n",
      ".......... .......... .......... .......... ..........  45% ∆0ms\n",
      ".......... .......... .......... .......... ..........  50% ∆1ms\n",
      ".......... .......... .......... .......... ..........  55% ∆1ms\n",
      ".......... .......... .......... .......... ..........  60% ∆0ms\n",
      ".......... .......... .......... .......... ..........  65% ∆0ms\n",
      ".......... .......... .......... .......... ..........  70% ∆0ms\n",
      ".......... .......... .......... .......... ..........  75% ∆0ms\n",
      ".......... .......... .......... .......... ..........  80% ∆0ms\n",
      ".......... .......... .......... .......... ..........  85% ∆1ms\n",
      ".......... .......... .......... .......... ..........  90% ∆0ms\n",
      ".......... .......... .......... .......... ..........  95% ∆0ms\n",
      ".......... .......... .......... .......... .........(4/4) Post processing 2020-03-20 01:34:36.892-0700\n",
      "  Estimated required memory usage: 1020.01 MB\n",
      "-......... .......... .......... .......... ..........   5% ∆59ms\n",
      ".......... .......... .......... .......... ..........  10% ∆0ms\n",
      ".......... .......... .......... .......... ..........  15% ∆0ms\n",
      ".......... .......... .......... .......... ..........  20% ∆0ms\n",
      ".......... .......... .......... .......... ..........  25% ∆0ms\n",
      ".......... .......... .......... .......... ..........  30% ∆1ms\n",
      ".......... .......... .......... .......... ..........  35% ∆0ms\n",
      ".......... .......... .......... .......... ..........  40% ∆0ms\n",
      ".......... .......... .......... .......... ..........  45% ∆0ms\n",
      ".......... .......... .......... .......... ..........  50% ∆0ms\n",
      ".......... .......... .......... .......... ..........  55% ∆0ms\n",
      ".......... .......... .......... .......... ..........  60% ∆1ms\n",
      ".......... .......... .......... .......... ..........  65% ∆0ms\n",
      ".......... .......... .......... .......... ..........  70% ∆0ms\n",
      ".......... .......... .......... .......... ..........  75% ∆0ms\n",
      ".......... .......... .......... .......... ..........  80% ∆0ms\n",
      ".......... .......... .......... .......... ..........  85% ∆0ms\n",
      ".......... .......... .......... .......... ..........  90% ∆0ms\n",
      ".......... .......... .......... .......... ..........  95% ∆1ms\n",
      ".......... .......... .......... .......... .......... 100% ∆0ms\n",
      "\n",
      "\n",
      "IMPORT DONE in 1s 980ms. \n",
      "Imported:\n",
      "  1952 nodes\n",
      "  6435 relationships\n",
      "  7587 properties\n",
      "Peak memory usage: 1.03 GB\n"
     ]
    }
   ],
   "source": [
    "!\"$NEO4J_HOME\"/bin/neo4j-admin import --database=graph.db --id-type=STRING --max-memory=250000 \\\n",
    "    --nodes=../reference_data/Outbreak.csv \\\n",
    "    --nodes=../reference_data/Pathogen.csv \\\n",
    "    --nodes=../data/nodes/Admin1.csv \\\n",
    "    --nodes=../data/nodes/Admin2.csv \\\n",
    "    --nodes=../data/nodes/City.csv \\\n",
    "    --nodes=../data/nodes/Country.csv \\\n",
    "    --nodes=../data/nodes/Host.csv \\\n",
    "    --nodes=../data/nodes/PersonAnimal.csv \\\n",
    "    --nodes=../data/nodes/Strain.csv \\\n",
    "    --relationships=../reference_data/Pathogen-CAUSES-Outbreak.csv \\\n",
    "    --relationships=../data/relationships/PersonAnimal-CARRIES-Strain.csv \\\n",
    "    --relationships=../data/relationships/PersonAnimal-IS_A-Host.csv \\\n",
    "    --relationships=../data/relationships/Strain-FOUND_IN-Admin1.csv \\\n",
    "    --relationships=../data/relationships/Strain-FOUND_IN-Admin2.csv \\\n",
    "    --relationships=../data/relationships/Strain-FOUND_IN-City.csv \\\n",
    "    --relationships=../data/relationships/Strain-FOUND_IN-Country.csv \\\n",
    "    --relationships=../data/relationships/PersonAnimal-LOCATED_IN-Admin1.csv \\\n",
    "    --relationships=../data/relationships/PersonAnimal-LOCATED_IN-Admin2.csv \\\n",
    "    --relationships=../data/relationships/PersonAnimal-LOCATED_IN-City.csv \\\n",
    "    --relationships=../data/relationships/PersonAnimal-LOCATED_IN-Country.csv \\\n",
    "    --relationships=../data/relationships/Pathogen-HAS-Strain.csv"
   ]
  },
  {
   "cell_type": "code",
   "execution_count": null,
   "metadata": {},
   "outputs": [],
   "source": []
  }
 ],
 "metadata": {
  "celltoolbar": "Slideshow",
  "kernelspec": {
   "display_name": "Python 3",
   "language": "python",
   "name": "python3"
  },
  "language_info": {
   "codemirror_mode": {
    "name": "ipython",
    "version": 3
   },
   "file_extension": ".py",
   "mimetype": "text/x-python",
   "name": "python",
   "nbconvert_exporter": "python",
   "pygments_lexer": "ipython3",
   "version": "3.7.6"
  }
 },
 "nbformat": 4,
 "nbformat_minor": 4
}
